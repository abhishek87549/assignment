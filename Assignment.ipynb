{
  "nbformat": 4,
  "nbformat_minor": 0,
  "metadata": {
    "colab": {
      "provenance": []
    },
    "kernelspec": {
      "name": "python3",
      "display_name": "Python 3"
    },
    "language_info": {
      "name": "python"
    }
  },
  "cells": [
    {
      "cell_type": "markdown",
      "source": [
        "###1. What is the difference between interpreted and compiled languages?\n",
        "- Interpreted languages (like Python) execute code line-by-line at runtime, making them easier to debug but slower.\n",
        "\n",
        "- Compiled languages (like C++) translate the entire code into machine language before running, resulting in faster execution.\n",
        "\n"
      ],
      "metadata": {
        "id": "B38ARwsoxqrb"
      }
    },
    {
      "cell_type": "markdown",
      "source": [
        "###2. What is exception handling in Python?\n",
        "Exception handling is a mechanism to gracefully handle runtime errors using try, except, else, and finally blocks, preventing the program from crashing."
      ],
      "metadata": {
        "id": "R4rx0b2Dx5DY"
      }
    },
    {
      "cell_type": "markdown",
      "source": [
        "###3. What is the purpose of the finally block in exception handling?\n",
        "The finally block contains code that will always execute after the try and except blocks, regardless of whether an exception occurred. It's typically used for cleanup actions like closing files or releasing resources."
      ],
      "metadata": {
        "id": "iSqMIWWxy4sl"
      }
    },
    {
      "cell_type": "markdown",
      "source": [
        "###4. What is logging in Python?\n",
        "Logging is a module in Python used to track events that happen during program execution. It's preferred over print() for debugging, monitoring, and keeping records of a program’s behavior."
      ],
      "metadata": {
        "id": "jb9WvkKDy_BP"
      }
    },
    {
      "cell_type": "markdown",
      "source": [
        "###5. What is the significance of the __del__ method in Python?\n",
        "The __del__ method is a destructor that is called when an object is about to be destroyed. It's used to clean up resources before the object is removed from memory."
      ],
      "metadata": {
        "id": "l4scZv3czYI_"
      }
    },
    {
      "cell_type": "markdown",
      "source": [
        "###6. What is the difference between import and from ... import in Python?\n",
        "\n",
        "import module: Imports the entire module.\n",
        "\n",
        "from module import name: Imports a specific attribute, function, or class from the module."
      ],
      "metadata": {
        "id": "UTpmJYXIz8LV"
      }
    },
    {
      "cell_type": "markdown",
      "source": [
        "###7. How can you handle multiple exceptions in Python?\n",
        "You can handle multiple exceptions using a tuple or multiple except blocks:"
      ],
      "metadata": {
        "id": "igfKymXm0GLc"
      }
    },
    {
      "cell_type": "code",
      "source": [
        "try:\n",
        "    # code\n",
        "except (TypeError, ValueError) as e:\n",
        "    print(e)\n"
      ],
      "metadata": {
        "id": "Op1SXaIU0Kyu"
      },
      "execution_count": null,
      "outputs": []
    },
    {
      "cell_type": "markdown",
      "source": [
        "###8. What is the purpose of the with statement when handling files in Python?\n",
        "The with statement automatically handles opening and closing files. It ensures the file is properly closed even if an exception occurs."
      ],
      "metadata": {
        "id": "N2cGY_UA0osr"
      }
    },
    {
      "cell_type": "code",
      "source": [
        "with open('file.txt', 'r') as file:\n",
        "    data = file.read()\n"
      ],
      "metadata": {
        "id": "z5xi__ss03Rc"
      },
      "execution_count": null,
      "outputs": []
    },
    {
      "cell_type": "markdown",
      "source": [
        "###9. What is the difference between multithreading and multiprocessing?\n",
        "\n",
        "Multithreading: Multiple threads run within the same process memory space. Good for I/O-bound tasks.\n",
        "\n",
        "Multiprocessing: Multiple processes run independently with separate memory. Better for CPU-bound tasks."
      ],
      "metadata": {
        "id": "wORJpuqr1Lo9"
      }
    },
    {
      "cell_type": "markdown",
      "source": [
        "###10. What are the advantages of using logging in a program?\n",
        "\n",
        "- Keeps a record of events\n",
        "\n",
        "- Easier debugging\n",
        "\n",
        "- Helps in production-level monitoring\n",
        "\n",
        "- Offers different severity levels like INFO, WARNING, ERROR, etc."
      ],
      "metadata": {
        "id": "xxt_oXQ11R14"
      }
    },
    {
      "cell_type": "markdown",
      "source": [
        "###11. What is memory management in Python?\n",
        "Python uses automatic memory management with a built-in garbage collector that reclaims unused memory to prevent memory leaks."
      ],
      "metadata": {
        "id": "4r8mU_gp1ZIt"
      }
    },
    {
      "cell_type": "markdown",
      "source": [
        "###12. What are the basic steps involved in exception handling in Python?\n",
        "\n",
        "1. try: Code that might cause an exception\n",
        "\n",
        "2. except: Code that handles the exception\n",
        "\n",
        "3. else: Executes if no exception occurs\n",
        "\n",
        "4. finally: Executes regardless of exception outcome"
      ],
      "metadata": {
        "id": "KpXxGH4N1eoW"
      }
    },
    {
      "cell_type": "markdown",
      "source": [
        "###13. Why is memory management important in Python?\n",
        "Efficient memory management prevents memory leaks, improves performance, and ensures that the program doesn’t crash due to out-of-memory issues."
      ],
      "metadata": {
        "id": "pFXhyeyh1mzc"
      }
    },
    {
      "cell_type": "markdown",
      "source": [
        "###14. What is the role of try and except in exception handling?\n",
        "\n",
        "- try: Contains code that may raise an error\n",
        "\n",
        "- except: Contains code to handle that error if it occurs"
      ],
      "metadata": {
        "id": "CGn7vTE71rPT"
      }
    },
    {
      "cell_type": "markdown",
      "source": [
        "###15. How does Python's garbage collection system work?\n",
        "Python uses reference counting and a cyclic garbage collector to automatically manage memory by freeing objects that are no longer in use."
      ],
      "metadata": {
        "id": "AuKU2QcC1xUn"
      }
    },
    {
      "cell_type": "markdown",
      "source": [
        "###16. What is the purpose of the else block in exception handling?\n",
        "The else block runs if no exception occurs in the try block, allowing separation of normal code from error-handling code."
      ],
      "metadata": {
        "id": "F8gjK4hw11j6"
      }
    },
    {
      "cell_type": "markdown",
      "source": [
        "###17. What are the common logging levels in Python?\n",
        "\n",
        "1. DEBUG\n",
        "\n",
        "2. INFO\n",
        "\n",
        "3. WARNING\n",
        "\n",
        "4. ERROR\n",
        "\n",
        "5. CRITICAL"
      ],
      "metadata": {
        "id": "CRaz3nL-19VE"
      }
    },
    {
      "cell_type": "markdown",
      "source": [
        "###18. What is the difference between os.fork() and multiprocessing in Python?\n",
        "\n",
        "- os.fork(): Creates a child process by duplicating the current process (Unix-only).\n",
        "\n",
        "- multiprocessing: A cross-platform module that allows spawning of processes in a more portable and high-level way."
      ],
      "metadata": {
        "id": "NNYJwiVR2F4w"
      }
    },
    {
      "cell_type": "markdown",
      "source": [
        "###19. What is the importance of closing a file in Python?\n",
        "Closing a file frees up system resources and ensures that all changes are properly written to disk."
      ],
      "metadata": {
        "id": "p2wk-etN2MBB"
      }
    },
    {
      "cell_type": "markdown",
      "source": [
        "###20. What is the difference between file.read() and file.readline() in Python?\n",
        "\n",
        "- file.read(): Reads the entire file (or a specified number of characters).\n",
        "\n",
        "- file.readline(): Reads one line at a time."
      ],
      "metadata": {
        "id": "eSyCE8U82QHA"
      }
    },
    {
      "cell_type": "markdown",
      "source": [
        "###21. What is the logging module in Python used for?\n",
        "The logging module provides a way to configure logging levels, output formats, and output destinations (e.g., files, console) to track events during program execution."
      ],
      "metadata": {
        "id": "k_qN3FZD2W0e"
      }
    },
    {
      "cell_type": "markdown",
      "source": [
        "###22. What is the os module in Python used for in file handling?\n",
        "The os module allows you to interact with the operating system for tasks like file creation, deletion, renaming, directory navigation, and path manipulation."
      ],
      "metadata": {
        "id": "M7BsVQbW2aYW"
      }
    },
    {
      "cell_type": "markdown",
      "source": [
        "###23. What are the challenges associated with memory management in Python?\n",
        "\n",
        "- Circular references\n",
        "\n",
        "- Memory leaks from large or unused objects\n",
        "\n",
        "- Difficulty in predicting memory usage in large-scale applications"
      ],
      "metadata": {
        "id": "dxLiwQ-W2hFt"
      }
    },
    {
      "cell_type": "markdown",
      "source": [
        "###24. How do you raise an exception manually in Python?\n",
        "Use the raise keyword:"
      ],
      "metadata": {
        "id": "Y1orZeUW2m-A"
      }
    },
    {
      "cell_type": "code",
      "source": [
        "raise ValueError(\"This is a manually raised exception\")\n"
      ],
      "metadata": {
        "id": "yc3Kpu462txG"
      },
      "execution_count": null,
      "outputs": []
    },
    {
      "cell_type": "markdown",
      "source": [
        "###25. Why is it important to use multithreading in certain applications?\n",
        "Multithreading is useful in I/O-bound applications like web servers or GUI apps to keep them responsive and efficient while performing background tasks.\n",
        "\n"
      ],
      "metadata": {
        "id": "Y0nhp6U327fO"
      }
    },
    {
      "cell_type": "markdown",
      "source": [
        "#Practical Questions and Answers"
      ],
      "metadata": {
        "id": "5Qco0z195eBk"
      }
    },
    {
      "cell_type": "markdown",
      "source": [
        "###1. How can you open a file for writing in Python and write a string to it?"
      ],
      "metadata": {
        "id": "_BAuCnUP5heZ"
      }
    },
    {
      "cell_type": "code",
      "source": [
        "with open('example.txt', 'w') as file:\n",
        "    file.write(\"Hello, world!\")\n"
      ],
      "metadata": {
        "id": "ddlP99Yr5jAQ"
      },
      "execution_count": null,
      "outputs": []
    },
    {
      "cell_type": "markdown",
      "source": [
        "###2. Write a Python program to read the contents of a file and print each line"
      ],
      "metadata": {
        "id": "9tipFmyk5prt"
      }
    },
    {
      "cell_type": "code",
      "source": [
        "with open('example.txt', 'r') as file:\n",
        "    for line in file:\n",
        "        print(line.strip())\n"
      ],
      "metadata": {
        "colab": {
          "base_uri": "https://localhost:8080/"
        },
        "id": "dXgimb8U5sUW",
        "outputId": "3b06fef4-6467-4002-8d63-365474521e6d"
      },
      "execution_count": null,
      "outputs": [
        {
          "output_type": "stream",
          "name": "stdout",
          "text": [
            "Hello, world!\n"
          ]
        }
      ]
    },
    {
      "cell_type": "markdown",
      "source": [
        "###3. How would you handle a case where the file doesn't exist while trying to open it for reading?"
      ],
      "metadata": {
        "id": "NwaMvPaC5v0z"
      }
    },
    {
      "cell_type": "code",
      "source": [
        "try:\n",
        "    with open('nonexistent.txt', 'r') as file:\n",
        "        data = file.read()\n",
        "except FileNotFoundError:\n",
        "    print(\"File not found.\")\n"
      ],
      "metadata": {
        "colab": {
          "base_uri": "https://localhost:8080/"
        },
        "id": "k9o4tRHR5xHW",
        "outputId": "5b37c2fb-7f39-4ea7-fa79-05557e2ce8fa"
      },
      "execution_count": null,
      "outputs": [
        {
          "output_type": "stream",
          "name": "stdout",
          "text": [
            "File not found.\n"
          ]
        }
      ]
    },
    {
      "cell_type": "markdown",
      "source": [
        "###4. Write a Python script that reads from one file and writes its content to another file."
      ],
      "metadata": {
        "id": "itIBSJtb517Z"
      }
    },
    {
      "cell_type": "code",
      "source": [
        "with open('source.txt', 'r') as source, open('destination.txt', 'w') as dest:\n",
        "    for line in source:\n",
        "        dest.write(line)\n"
      ],
      "metadata": {
        "id": "NobMXa9K6Ccs"
      },
      "execution_count": null,
      "outputs": []
    },
    {
      "cell_type": "markdown",
      "source": [
        "###5. How would you catch and handle division by zero error in Python."
      ],
      "metadata": {
        "id": "sYtJYjDk6ObB"
      }
    },
    {
      "cell_type": "code",
      "source": [
        "try:\n",
        "    result = 10 / 0\n",
        "except ZeroDivisionError:\n",
        "    print(\"Cannot divide by zero.\")\n"
      ],
      "metadata": {
        "colab": {
          "base_uri": "https://localhost:8080/"
        },
        "id": "-JcRH4CP6Rii",
        "outputId": "9d62352a-13fb-48bb-e808-be48f89af111"
      },
      "execution_count": null,
      "outputs": [
        {
          "output_type": "stream",
          "name": "stdout",
          "text": [
            "Cannot divide by zero.\n"
          ]
        }
      ]
    },
    {
      "cell_type": "markdown",
      "source": [
        "###6. Write a Python program that logs an error message to a log file when a division by zero exception occurs."
      ],
      "metadata": {
        "id": "V0q_UBRj6YVo"
      }
    },
    {
      "cell_type": "code",
      "source": [
        "import logging\n",
        "\n",
        "logging.basicConfig(filename='error.log', level=logging.ERROR)\n",
        "\n",
        "try:\n",
        "    result = 10 / 0\n",
        "except ZeroDivisionError as e:\n",
        "    logging.error(f\"Division by zero error: {e}\")\n"
      ],
      "metadata": {
        "colab": {
          "base_uri": "https://localhost:8080/"
        },
        "id": "8OUz9awd6cfR",
        "outputId": "2f04fb4e-e4a2-4880-d4b4-c9106bbee40d"
      },
      "execution_count": null,
      "outputs": [
        {
          "output_type": "stream",
          "name": "stderr",
          "text": [
            "ERROR:root:Division by zero error: division by zero\n"
          ]
        }
      ]
    },
    {
      "cell_type": "markdown",
      "source": [
        "###7. How do you log information at different levels (INFO, ERROR, WARNING) in Python using the logging module?"
      ],
      "metadata": {
        "id": "92xpXqnv6iXR"
      }
    },
    {
      "cell_type": "code",
      "source": [
        "import logging\n",
        "\n",
        "logging.basicConfig(level=logging.DEBUG)\n",
        "\n",
        "logging.info(\"This is an info message\")\n",
        "logging.warning(\"This is a warning\")\n",
        "logging.error(\"This is an error\")\n"
      ],
      "metadata": {
        "colab": {
          "base_uri": "https://localhost:8080/"
        },
        "id": "-RKwXDSQ6nf4",
        "outputId": "c3c44f07-bf7e-4fd0-a0ba-e94841bea169"
      },
      "execution_count": null,
      "outputs": [
        {
          "output_type": "stream",
          "name": "stderr",
          "text": [
            "WARNING:root:This is a warning\n",
            "ERROR:root:This is an error\n"
          ]
        }
      ]
    },
    {
      "cell_type": "markdown",
      "source": [
        "###8. Write a program to handle a file opening error using exception handling."
      ],
      "metadata": {
        "id": "B-dy8Zcf612D"
      }
    },
    {
      "cell_type": "code",
      "source": [
        "try:\n",
        "    with open('data.txt', 'r') as f:\n",
        "        print(f.read())\n",
        "except FileNotFoundError:\n",
        "    print(\"The file does not exist.\")\n"
      ],
      "metadata": {
        "colab": {
          "base_uri": "https://localhost:8080/"
        },
        "id": "Rz7AhK7t63kN",
        "outputId": "f259886e-3cb1-4303-ffde-a4fc886f1334"
      },
      "execution_count": null,
      "outputs": [
        {
          "output_type": "stream",
          "name": "stdout",
          "text": [
            "The file does not exist.\n"
          ]
        }
      ]
    },
    {
      "cell_type": "markdown",
      "source": [
        "###9. How can you read a file line by line and store its content in a list in Python?"
      ],
      "metadata": {
        "id": "6pPsn3az68I6"
      }
    },
    {
      "cell_type": "code",
      "source": [
        "with open('example.txt', 'r') as file:\n",
        "    lines = file.readlines()\n",
        "\n",
        "print(lines)\n"
      ],
      "metadata": {
        "colab": {
          "base_uri": "https://localhost:8080/"
        },
        "id": "JgK33dqJ69pg",
        "outputId": "e05c4bcf-b4bf-4986-f6f6-513f0c66c042"
      },
      "execution_count": null,
      "outputs": [
        {
          "output_type": "stream",
          "name": "stdout",
          "text": [
            "['Hello, world!']\n"
          ]
        }
      ]
    },
    {
      "cell_type": "markdown",
      "source": [
        "###10. How can you append data to an existing file in Python?"
      ],
      "metadata": {
        "id": "gB2YLbwQ7Cgd"
      }
    },
    {
      "cell_type": "code",
      "source": [
        "with open('example.txt', 'a') as file:\n",
        "    file.write(\"\\nThis is an appended line.\")\n"
      ],
      "metadata": {
        "id": "JwEaa1sK7ELQ"
      },
      "execution_count": null,
      "outputs": []
    },
    {
      "cell_type": "markdown",
      "source": [
        "###11. Write a Python program that uses a try-except block to handle an error when attempting to access a dictionary key that doesn't exist"
      ],
      "metadata": {
        "id": "EYvcLG0d7JG1"
      }
    },
    {
      "cell_type": "code",
      "source": [
        "my_dict = {'a': 1}\n",
        "\n",
        "try:\n",
        "    print(my_dict['b'])\n",
        "except KeyError:\n",
        "    print(\"Key does not exist.\")\n"
      ],
      "metadata": {
        "colab": {
          "base_uri": "https://localhost:8080/"
        },
        "id": "GKSDcSTW7NXv",
        "outputId": "2c8c9a72-d28f-4100-f97f-7376bb9c7ad1"
      },
      "execution_count": null,
      "outputs": [
        {
          "output_type": "stream",
          "name": "stdout",
          "text": [
            "Key does not exist.\n"
          ]
        }
      ]
    },
    {
      "cell_type": "markdown",
      "source": [
        "###12. Write a program that demonstrates using multiple except blocks to handle different types of exceptions."
      ],
      "metadata": {
        "id": "qhS45JX77TU5"
      }
    },
    {
      "cell_type": "code",
      "source": [
        "try:\n",
        "    x = int(\"abc\")\n",
        "    y = 10 / 0\n",
        "except ValueError:\n",
        "    print(\"Value error occurred.\")\n",
        "except ZeroDivisionError:\n",
        "    print(\"Division by zero occurred.\")\n"
      ],
      "metadata": {
        "colab": {
          "base_uri": "https://localhost:8080/"
        },
        "id": "8qxUcfJe7Voz",
        "outputId": "fb84afa6-38d3-468f-b755-cbd05c182fde"
      },
      "execution_count": null,
      "outputs": [
        {
          "output_type": "stream",
          "name": "stdout",
          "text": [
            "Value error occurred.\n"
          ]
        }
      ]
    },
    {
      "cell_type": "markdown",
      "source": [
        "###13. How would you check if a file exists before attempting to read it in Python?"
      ],
      "metadata": {
        "id": "CKBYQnqB7dZZ"
      }
    },
    {
      "cell_type": "code",
      "source": [
        "import os\n",
        "\n",
        "if os.path.exists('example.txt'):\n",
        "    with open('example.txt', 'r') as file:\n",
        "        print(file.read())\n",
        "else:\n",
        "    print(\"File does not exist.\")\n"
      ],
      "metadata": {
        "colab": {
          "base_uri": "https://localhost:8080/"
        },
        "id": "OQMY7bsJ7f76",
        "outputId": "eceae1e1-d242-46dd-8942-bd1cc244d44d"
      },
      "execution_count": null,
      "outputs": [
        {
          "output_type": "stream",
          "name": "stdout",
          "text": [
            "Hello, world!\n",
            "This is an appended line.\n"
          ]
        }
      ]
    },
    {
      "cell_type": "markdown",
      "source": [
        "###14. Write a program that uses the logging module to log both informational and error messages."
      ],
      "metadata": {
        "id": "3I_hbZt97ljE"
      }
    },
    {
      "cell_type": "code",
      "source": [
        "import logging\n",
        "\n",
        "logging.basicConfig(filename='app.log', level=logging.INFO)\n",
        "\n",
        "logging.info(\"This is an informational message\")\n",
        "try:\n",
        "    1 / 0\n",
        "except ZeroDivisionError:\n",
        "    logging.error(\"An error occurred: Division by zero\")\n"
      ],
      "metadata": {
        "colab": {
          "base_uri": "https://localhost:8080/"
        },
        "id": "xVsqxPFI7ofT",
        "outputId": "3b5358cd-fc80-434b-feff-d5a0b2be2c71"
      },
      "execution_count": null,
      "outputs": [
        {
          "output_type": "stream",
          "name": "stderr",
          "text": [
            "ERROR:root:An error occurred: Division by zero\n"
          ]
        }
      ]
    },
    {
      "cell_type": "markdown",
      "source": [
        "###15. Write a Python program that prints the content of a file and handles the case when the file is empty"
      ],
      "metadata": {
        "id": "nW_ngleA7sQK"
      }
    },
    {
      "cell_type": "code",
      "source": [
        "try:\n",
        "    with open('example.txt', 'r') as file:\n",
        "        content = file.read()\n",
        "        if content:\n",
        "            print(content)\n",
        "        else:\n",
        "            print(\"The file is empty.\")\n",
        "except FileNotFoundError:\n",
        "    print(\"File not found.\")\n"
      ],
      "metadata": {
        "colab": {
          "base_uri": "https://localhost:8080/"
        },
        "id": "pMcrHmGX7uPh",
        "outputId": "0a619edb-6f77-4a2f-bb42-32b693a0a0ec"
      },
      "execution_count": null,
      "outputs": [
        {
          "output_type": "stream",
          "name": "stdout",
          "text": [
            "Hello, world!\n",
            "This is an appended line.\n"
          ]
        }
      ]
    },
    {
      "cell_type": "markdown",
      "source": [
        "###16. Demonstrate how to use memory profiling to check the memory usage of a small program."
      ],
      "metadata": {
        "id": "Tx7uGM5Q70yy"
      }
    },
    {
      "cell_type": "code",
      "source": [
        "from memory_profiler import profile\n",
        "\n",
        "@profile\n",
        "def create_list():\n",
        "    return [i for i in range(100000)]\n",
        "\n",
        "if __name__ == \"__main__\":\n",
        "    create_list()\n"
      ],
      "metadata": {
        "id": "0vdr8tgS8QA4"
      },
      "execution_count": null,
      "outputs": []
    },
    {
      "cell_type": "markdown",
      "source": [
        "###17. Write a Python program to create and write a list of numbers to a file, one number per line."
      ],
      "metadata": {
        "id": "vhx6OUl-Da5o"
      }
    },
    {
      "cell_type": "code",
      "source": [
        "numbers = [1, 2, 3, 4, 5]\n",
        "\n",
        "with open(\"numbers.txt\", \"w\") as file:\n",
        "    for num in numbers:\n",
        "        file.write(f\"{num}\\n\")\n"
      ],
      "metadata": {
        "id": "9ay-LpvVDeir"
      },
      "execution_count": 2,
      "outputs": []
    },
    {
      "cell_type": "markdown",
      "source": [
        "###18. How would you implement a basic logging setup that logs to a file with rotation after 1MB?"
      ],
      "metadata": {
        "id": "f-lSg_UJDhoJ"
      }
    },
    {
      "cell_type": "code",
      "source": [
        "import logging\n",
        "from logging.handlers import RotatingFileHandler\n",
        "\n",
        "logger = logging.getLogger(\"MyLogger\")\n",
        "logger.setLevel(logging.INFO)\n",
        "\n",
        "handler = RotatingFileHandler(\"my_log.log\", maxBytes=1_000_000, backupCount=3)\n",
        "logger.addHandler(handler)\n",
        "\n",
        "logger.info(\"This is a test log message.\")\n"
      ],
      "metadata": {
        "colab": {
          "base_uri": "https://localhost:8080/"
        },
        "id": "VfL8ouwHDizr",
        "outputId": "ee30ad3d-93e5-4f28-ed1d-8a48f6fc8946"
      },
      "execution_count": 3,
      "outputs": [
        {
          "output_type": "stream",
          "name": "stderr",
          "text": [
            "INFO:MyLogger:This is a test log message.\n"
          ]
        }
      ]
    },
    {
      "cell_type": "markdown",
      "source": [
        "###19. Write a program that handles both IndexError and KeyError using a try-except block."
      ],
      "metadata": {
        "id": "YUCUB-9gEI97"
      }
    },
    {
      "cell_type": "code",
      "source": [
        "my_list = [1, 2, 3]\n",
        "my_dict = {\"a\": 1, \"b\": 2}\n",
        "\n",
        "try:\n",
        "    print(my_list[5])        # IndexError\n",
        "    print(my_dict[\"z\"])      # KeyError\n",
        "except IndexError:\n",
        "    print(\"Caught an IndexError.\")\n",
        "except KeyError:\n",
        "    print(\"Caught a KeyError.\")\n"
      ],
      "metadata": {
        "colab": {
          "base_uri": "https://localhost:8080/"
        },
        "id": "xdqJEH7vELsI",
        "outputId": "d0547143-e566-496c-a520-c980063fcf63"
      },
      "execution_count": 4,
      "outputs": [
        {
          "output_type": "stream",
          "name": "stdout",
          "text": [
            "Caught an IndexError.\n"
          ]
        }
      ]
    },
    {
      "cell_type": "markdown",
      "source": [
        "###20. How would you open a file and read its contents using a context manager in Python?"
      ],
      "metadata": {
        "id": "P8v3AEQTERul"
      }
    },
    {
      "cell_type": "code",
      "source": [
        "with open(\"example.txt\", \"r\") as file:\n",
        "    content = file.read()\n",
        "    print(content)\n"
      ],
      "metadata": {
        "id": "SK5iIX6_ETJb"
      },
      "execution_count": null,
      "outputs": []
    },
    {
      "cell_type": "markdown",
      "source": [
        "###21. Write a Python program that reads a file and prints the number of occurrences of a specific word."
      ],
      "metadata": {
        "id": "KeQJkY8cEpYv"
      }
    },
    {
      "cell_type": "code",
      "source": [
        "def count_word(filename, word):\n",
        "    with open(filename, \"r\") as file:\n",
        "        text = file.read().lower()\n",
        "        return text.count(word.lower())\n",
        "\n",
        "word_count = count_word(\"sample.txt\", \"python\")\n",
        "print(f\"Occurrences of 'python': {word_count}\")\n"
      ],
      "metadata": {
        "id": "fz4S-YG4EqvT"
      },
      "execution_count": null,
      "outputs": []
    },
    {
      "cell_type": "markdown",
      "source": [
        "###22. How can you check if a file is empty before attempting to read its contents?"
      ],
      "metadata": {
        "id": "h2hKuZCGEzcA"
      }
    },
    {
      "cell_type": "code",
      "source": [
        "import os\n",
        "\n",
        "file_path = \"sample.txt\"\n",
        "\n",
        "if os.path.getsize(file_path) == 0:\n",
        "    print(\"File is empty.\")\n",
        "else:\n",
        "    with open(file_path, \"r\") as file:\n",
        "        print(file.read())\n"
      ],
      "metadata": {
        "id": "Y2SCpasnE3Rw"
      },
      "execution_count": null,
      "outputs": []
    },
    {
      "cell_type": "markdown",
      "source": [
        "###23. Write a Python program that writes to a log file when an error occurs during file handling."
      ],
      "metadata": {
        "id": "6-7JEsj3E7e3"
      }
    },
    {
      "cell_type": "code",
      "source": [
        "import logging\n",
        "\n",
        "logging.basicConfig(filename=\"error_log.txt\", level=logging.ERROR)\n",
        "\n",
        "try:\n",
        "    with open(\"nonexistent.txt\", \"r\") as file:\n",
        "        data = file.read()\n",
        "except Exception as e:\n",
        "    logging.error(\"Error occurred: %s\", str(e))\n",
        "    print(\"An error occurred. Check log.\")\n"
      ],
      "metadata": {
        "colab": {
          "base_uri": "https://localhost:8080/"
        },
        "id": "xHN2x77mE-Sx",
        "outputId": "f2047283-7757-44f2-a032-26269ac3033c"
      },
      "execution_count": 9,
      "outputs": [
        {
          "output_type": "stream",
          "name": "stderr",
          "text": [
            "ERROR:root:Error occurred: [Errno 2] No such file or directory: 'nonexistent.txt'\n"
          ]
        },
        {
          "output_type": "stream",
          "name": "stdout",
          "text": [
            "An error occurred. Check log.\n"
          ]
        }
      ]
    }
  ]
}